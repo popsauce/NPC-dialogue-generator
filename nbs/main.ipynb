{
  "nbformat": 4,
  "nbformat_minor": 0,
  "metadata": {
    "colab": {
      "provenance": []
    },
    "kernelspec": {
      "name": "python3",
      "display_name": "Python 3"
    },
    "language_info": {
      "name": "python"
    }
  },
  "cells": [
    {
      "cell_type": "markdown",
      "source": [
        "#Dataset Cleanup\n",
        "\n",
        "Input format :-  \n",
        "\n",
        "FormID: str\tstr\tstr int str\n",
        "\n",
        "Eg\n",
        "FormID: 00092D86\tMQ02\tMQ02JauffreD2\t0\tHis meaning is unclear to me as well. The Emperor seemed to perceive some threat from the demonic world of Oblivion."
      ],
      "metadata": {
        "id": "ar8y3yePB6WG"
      }
    },
    {
      "cell_type": "markdown",
      "source": [
        "#Find txt file encoding type"
      ],
      "metadata": {
        "id": "MwVxeFxnHjcj"
      }
    },
    {
      "cell_type": "code",
      "source": [
        "import chardet\n",
        "import glob\n",
        "\n",
        "# for every text file, print the file name & a gues of its file encoding\n",
        "print(\"File\".ljust(45), \"Encoding\")\n",
        "for filename in glob.glob('/content/*.txt'):\n",
        "    with open(filename, 'rb') as rawdata:\n",
        "        result = chardet.detect(rawdata.read())\n",
        "    print(filename.ljust(45), result['encoding'])"
      ],
      "metadata": {
        "colab": {
          "base_uri": "https://localhost:8080/"
        },
        "id": "WQUPmZU8HCwK",
        "outputId": "a1af7a2d-dcec-42b8-8a1e-4934d3bfbec7"
      },
      "execution_count": null,
      "outputs": [
        {
          "output_type": "stream",
          "name": "stdout",
          "text": [
            "File                                          Encoding\n",
            "/content/input.txt                            utf-8\n",
            "/content/shakespeare.txt                      ascii\n",
            "/content/OblivionGOTY_Dialog.txt              Windows-1252\n",
            "/content/SkyrimGOTY_Dialogue.txt              ascii\n"
          ]
        }
      ]
    },
    {
      "cell_type": "code",
      "source": [
        "#convert encoding type\n",
        "with open('/content/OblivionGOTY_Dialog.txt', 'r', encoding='cp1252') as inp,\\\n",
        "        open('input.txt', 'w', encoding='utf-8') as outp:\n",
        "    for line in inp:\n",
        "        outp.write(line)"
      ],
      "metadata": {
        "id": "o9E8UUgZInYs"
      },
      "execution_count": null,
      "outputs": []
    },
    {
      "cell_type": "code",
      "source": [
        "with open('input.txt','r', encoding='utf-8' ) as f:\n",
        "  text = f.read()"
      ],
      "metadata": {
        "id": "C0XIDAO3F2k5"
      },
      "execution_count": null,
      "outputs": []
    },
    {
      "cell_type": "code",
      "source": [
        "print(\"length of dataset in characters: \", len(text))"
      ],
      "metadata": {
        "colab": {
          "base_uri": "https://localhost:8080/"
        },
        "id": "6xWI_VyAsN8F",
        "outputId": "ed0d344c-86bf-4877-9f6a-6cb007035e2b"
      },
      "execution_count": null,
      "outputs": [
        {
          "output_type": "stream",
          "name": "stdout",
          "text": [
            "length of dataset in characters:  3348672\n"
          ]
        }
      ]
    },
    {
      "cell_type": "code",
      "source": [
        "print(text[:1000])"
      ],
      "metadata": {
        "colab": {
          "base_uri": "https://localhost:8080/"
        },
        "id": "2c5V0FvqseE0",
        "outputId": "3a6662c9-5f08-47ae-ab2b-bf4ba18bef64"
      },
      "execution_count": null,
      "outputs": [
        {
          "output_type": "stream",
          "name": "stdout",
          "text": [
            "FormID: 00092D86\tMQ02\tMQ02JauffreD2\t0\tHis meaning is unclear to me as well. The Emperor seemed to perceive some threat from the demonic world of Oblivion. \t\n",
            "FormID: 00092D86\tMQ02\tMQ02JauffreD2\t1\tThe Prince of Destruction, Mehrunes Dagon, is one of the lords of Oblivion.\tgrimly\n",
            "FormID: 00092D86\tMQ02\tMQ02JauffreD2\t2\tBut the mortal world is protected from the daedra of Oblivion by magical barriers.\tpuzzled by the apparent contradiction\n",
            "FormID: 0002B09E\tMS22\tMS22CleansingFane\t0\tI don't own it. One of the rare book dealers in the Market District may have a copy. Read it. Educate yourself.\t\n",
            "FormID: 000860C2\tMS91\tMazogaWoman\t0\tI'm a knight. So say, 'Sir'. Say, 'Yes, Sir Mazoga'.\t\n",
            "FormID: 000ADD45\tMQ00\tMQ16OcatoC\t0\tThen Martin is gone...\ttrying to accept this\n",
            "FormID: 000980FC\tMS31\tMS31Selene03Negative\t0\tWrong, fool. I've grown tired of this guessing game. I've much to do and you're in the way. I aim to rectify that!\t\n",
            "FormID: 000980FB\tMS31\tMS31Selene03aPositive\t0\tWhat? Can no one in this gang k\n"
          ]
        }
      ]
    },
    {
      "cell_type": "markdown",
      "source": [
        "#Clean txt file\n",
        "\n",
        "FormID: 00092D86\tMQ02\tMQ02JauffreD2\t0\tHis meaning is unclear to me as well. The Emperor seemed to perceive some threat from the demonic world of Oblivion.\n",
        "\n",
        "To\n",
        "\n",
        "His meaning is unclear to me as well. The Emperor seemed to perceive some threat from the demonic world of Oblivion.\n"
      ],
      "metadata": {
        "id": "j9RDVoEkcj4C"
      }
    },
    {
      "cell_type": "code",
      "source": [
        "import pandas as pd\n",
        "df = pd.read_csv(\"input.txt\", sep=\"\\s+\", on_bad_lines='skip')\n",
        "df = df.drop('FormID:', axis=1)\n",
        "df = df.drop('00092D86', axis=1)\n",
        "df = df.drop('MQ02', axis=1)\n",
        "df = df.drop('MQ02JauffreD2', axis=1)\n",
        "df = df.drop('0', axis=1)\n",
        "print(df)\n",
        "df.to_csv('input1.txt', sep='\\t', index=False)\n"
      ],
      "metadata": {
        "colab": {
          "base_uri": "https://localhost:8080/"
        },
        "id": "abXVQWcpMUMB",
        "outputId": "31400beb-5f07-4ad4-f218-f125753f4024"
      },
      "execution_count": null,
      "outputs": [
        {
          "output_type": "stream",
          "name": "stdout",
          "text": [
            "             His  meaning        is       unclear        to         me  \\\n",
            "0            The   Prince        of  Destruction,  Mehrunes     Dagon,   \n",
            "1            But      the    mortal         world        is  protected   \n",
            "2            I'm        a   knight.            So      say,     'Sir'.   \n",
            "3           Then   Martin        is       gone...    trying         to   \n",
            "4          What?      Can        no           one        in       this   \n",
            "...          ...      ...       ...           ...       ...        ...   \n",
            "17183       Once     they     break    themselves        on        our   \n",
            "17184         Of      the  original      divines,  Zenithar         is   \n",
            "17185  Craftsmen  devoted        to      Zenithar       are       able   \n",
            "17186         Of      the  original      divines,  Zenithar         is   \n",
            "17187  Craftsmen  devoted        to      Zenithar       are       able   \n",
            "\n",
            "              as    well.     The   Emperor  ... to.1   perceive       some  \\\n",
            "0             is      one      of       the  ...   of  Oblivion.     grimly   \n",
            "1           from      the  daedra        of  ...   by    magical  barriers.   \n",
            "2           Say,    'Yes,     Sir  Mazoga'.  ...  NaN        NaN        NaN   \n",
            "3         accept     this     NaN       NaN  ...  NaN        NaN        NaN   \n",
            "4           gang     keep  things   secret?  ...  NaN        NaN        NaN   \n",
            "...          ...      ...     ...       ...  ...  ...        ...        ...   \n",
            "17183  defenses,  Cylarne    will        be  ...    a       gift        for   \n",
            "17184    thought       to      be       the  ...   in      touch       with   \n",
            "17185         to   create     and    profit  ...  the  materials   provided   \n",
            "17186    thought       to      be       the  ...   in      touch       with   \n",
            "17187         to   create     and    profit  ...  the  materials   provided   \n",
            "\n",
            "        threat        from          the   demonic          world   of  \\\n",
            "0          NaN         NaN          NaN       NaN            NaN  NaN   \n",
            "1      puzzled          by          the  apparent  contradiction  NaN   \n",
            "2          NaN         NaN          NaN       NaN            NaN  NaN   \n",
            "3          NaN         NaN          NaN       NaN            NaN  NaN   \n",
            "4          NaN         NaN          NaN       NaN            NaN  NaN   \n",
            "...        ...         ...          ...       ...            ...  ...   \n",
            "17183      our        Lord  Sheogorath.       NaN            NaN  NaN   \n",
            "17184      the      mortal       realm.       NaN            NaN  NaN   \n",
            "17185       by  Kynareth's      natural    world.            NaN  NaN   \n",
            "17186      the      mortal       realm.       NaN            NaN  NaN   \n",
            "17187       by  Kynareth's      natural    world.            NaN  NaN   \n",
            "\n",
            "      Oblivion.  \n",
            "0           NaN  \n",
            "1           NaN  \n",
            "2           NaN  \n",
            "3           NaN  \n",
            "4           NaN  \n",
            "...         ...  \n",
            "17183       NaN  \n",
            "17184       NaN  \n",
            "17185       NaN  \n",
            "17186       NaN  \n",
            "17187       NaN  \n",
            "\n",
            "[17188 rows x 21 columns]\n"
          ]
        }
      ]
    },
    {
      "cell_type": "code",
      "source": [
        "with open('input1.txt','r', encoding='utf-8' ) as f:\n",
        "  text = f.read()"
      ],
      "metadata": {
        "id": "kP8BODp6RLG2"
      },
      "execution_count": null,
      "outputs": []
    },
    {
      "cell_type": "code",
      "source": [
        "print(text[:1000])"
      ],
      "metadata": {
        "colab": {
          "base_uri": "https://localhost:8080/"
        },
        "id": "SsPfBRf6RQB2",
        "outputId": "8b093f4a-32c3-48a3-ba35-832bbe0ea9ab"
      },
      "execution_count": null,
      "outputs": [
        {
          "output_type": "stream",
          "name": "stdout",
          "text": [
            "His\tmeaning\tis\tunclear\tto\tme\tas\twell.\tThe\tEmperor\tseemed\tto.1\tperceive\tsome\tthreat\tfrom\tthe\tdemonic\tworld\tof\tOblivion.\n",
            "The\tPrince\tof\tDestruction,\tMehrunes\tDagon,\tis\tone\tof\tthe\tlords\tof\tOblivion.\tgrimly\t\t\t\t\t\t\t\n",
            "But\tthe\tmortal\tworld\tis\tprotected\tfrom\tthe\tdaedra\tof\tOblivion\tby\tmagical\tbarriers.\tpuzzled\tby\tthe\tapparent\tcontradiction\t\t\n",
            "I'm\ta\tknight.\tSo\tsay,\t'Sir'.\tSay,\t'Yes,\tSir\tMazoga'.\t\t\t\t\t\t\t\t\t\t\t\n",
            "Then\tMartin\tis\tgone...\ttrying\tto\taccept\tthis\t\t\t\t\t\t\t\t\t\t\t\t\t\n",
            "What?\tCan\tno\tone\tin\tthis\tgang\tkeep\tthings\tsecret?\t\t\t\t\t\t\t\t\t\t\t\n",
            "I\tsuppose\tyou\tthink\tyou\tknow\twhy\twe've\ttaken\tover\tthe\tBloated\tFloat\tas\twell!\t\t\t\t\t\t\n",
            "You\tdon't\thave\tthe\tgold.\tI\thope\tyou\tdidn't\tthink\tI\twas\tjust\tgoing\tto\tgive\tit\tto\tyou?\tindignant\t\n",
            "What\ta\tpity.\t\t\t\t\t\t\t\t\t\t\t\t\t\t\t\t\t\t\n",
            "Excellent!\tGo\tout\tto\tthe\tcorral.\tAntione\twill\thave\tyour\tnew\tBay\tsaddled\tand\tready\tfor\tyou.\t\t\t\t\n",
            "You\tshould\tonly\thave\tgoodbye\tas\tyour\toption.\t\t\t\t\t\t\t\t\t\t\t\t\t\n",
            "It's\ta\tpleasure\tto\thave\tyou\tbecome\ta\tcitizen\tof\tChorrol.\tI'll\ttake\tcare\tof\tthe\tdeed.\t\t\t\t\n",
            "Here\tis\tyour\tkey.\tThe\thouse\tis\ton\n"
          ]
        }
      ]
    },
    {
      "cell_type": "code",
      "source": [
        "# here are all the unique characters that occur in this text\n",
        "chars = sorted(list(set(text)))\n",
        "vocab_size = len(chars)\n",
        "print(''.join(chars))\n",
        "print(vocab_size)"
      ],
      "metadata": {
        "colab": {
          "base_uri": "https://localhost:8080/"
        },
        "id": "0e-Rbyr8sfM8",
        "outputId": "eed2a939-9a24-4a86-ab1c-8a4409d9a78c"
      },
      "execution_count": null,
      "outputs": [
        {
          "output_type": "stream",
          "name": "stdout",
          "text": [
            "\t\n",
            "!&'()*,-./0123456789:;<=>?ABCDEFGHIJKLMNOPQRSTUVWXYZ[]_abcdefghijklmnopqrstuvwxyzë…\n",
            "85\n"
          ]
        }
      ]
    },
    {
      "cell_type": "code",
      "source": [
        "# create a mapping from characters to integers\n",
        "stoi = { ch:i for i,ch in enumerate(chars) }\n",
        "itos = { i:ch for i,ch in enumerate(chars) }\n",
        "encode = lambda s: [stoi[c] for c in s] # encoder: take a string, output a list of integers\n",
        "decode = lambda l: ''.join([itos[i] for i in l]) # decoder: take a list of integers, output a string\n",
        "\n",
        "print(encode(\"sgfdjhgkhg\"))\n",
        "print(decode(encode(\"sgfdjhgkhg\")))"
      ],
      "metadata": {
        "colab": {
          "base_uri": "https://localhost:8080/"
        },
        "id": "Yw1LKNCgwjj1",
        "outputId": "f90dcdd9-8fe3-4edc-d170-b728f98540de"
      },
      "execution_count": null,
      "outputs": [
        {
          "output_type": "stream",
          "name": "stdout",
          "text": [
            "[75, 63, 62, 60, 66, 64, 63, 67, 64, 63]\n",
            "sgfdjhgkhg\n"
          ]
        }
      ]
    },
    {
      "cell_type": "code",
      "source": [
        "#store data to torch tensor\n",
        "import torch\n",
        "data = torch.tensor(encode(text), dtype=torch.long)\n",
        "print(data.shape, data.dtype)\n",
        "print(data[:1000]) # the 1000 characters we looked at earier will to the GPT look like this"
      ],
      "metadata": {
        "colab": {
          "base_uri": "https://localhost:8080/"
        },
        "id": "YJb0OXPwzvqg",
        "outputId": "88aede55-8abc-4778-9c49-0a63ca45a514"
      },
      "execution_count": null,
      "outputs": [
        {
          "output_type": "stream",
          "name": "stdout",
          "text": [
            "torch.Size([1295715]) torch.int64\n",
            "tensor([35, 65, 75,  0, 69, 61, 57, 70, 65, 70, 63,  0, 65, 75,  0, 77, 70, 59,\n",
            "        68, 61, 57, 74,  0, 76, 71,  0, 69, 61,  0, 57, 75,  0, 79, 61, 68, 68,\n",
            "        10,  0, 47, 64, 61,  0, 32, 69, 72, 61, 74, 71, 74,  0, 75, 61, 61, 69,\n",
            "        61, 60,  0, 76, 71, 10, 13,  0, 72, 61, 74, 59, 61, 65, 78, 61,  0, 75,\n",
            "        71, 69, 61,  0, 76, 64, 74, 61, 57, 76,  0, 62, 74, 71, 69,  0, 76, 64,\n",
            "        61,  0, 60, 61, 69, 71, 70, 65, 59,  0, 79, 71, 74, 68, 60,  0, 71, 62,\n",
            "         0, 42, 58, 68, 65, 78, 65, 71, 70, 10,  1, 47, 64, 61,  0, 43, 74, 65,\n",
            "        70, 59, 61,  0, 71, 62,  0, 31, 61, 75, 76, 74, 77, 59, 76, 65, 71, 70,\n",
            "         8,  0, 40, 61, 64, 74, 77, 70, 61, 75,  0, 31, 57, 63, 71, 70,  8,  0,\n",
            "        65, 75,  0, 71, 70, 61,  0, 71, 62,  0, 76, 64, 61,  0, 68, 71, 74, 60,\n",
            "        75,  0, 71, 62,  0, 42, 58, 68, 65, 78, 65, 71, 70, 10,  0, 63, 74, 65,\n",
            "        69, 68, 81,  0,  0,  0,  0,  0,  0,  0,  1, 29, 77, 76,  0, 76, 64, 61,\n",
            "         0, 69, 71, 74, 76, 57, 68,  0, 79, 71, 74, 68, 60,  0, 65, 75,  0, 72,\n",
            "        74, 71, 76, 61, 59, 76, 61, 60,  0, 62, 74, 71, 69,  0, 76, 64, 61,  0,\n",
            "        60, 57, 61, 60, 74, 57,  0, 71, 62,  0, 42, 58, 68, 65, 78, 65, 71, 70,\n",
            "         0, 58, 81,  0, 69, 57, 63, 65, 59, 57, 68,  0, 58, 57, 74, 74, 65, 61,\n",
            "        74, 75, 10,  0, 72, 77, 82, 82, 68, 61, 60,  0, 58, 81,  0, 76, 64, 61,\n",
            "         0, 57, 72, 72, 57, 74, 61, 70, 76,  0, 59, 71, 70, 76, 74, 57, 60, 65,\n",
            "        59, 76, 65, 71, 70,  0,  0,  1, 36,  4, 69,  0, 57,  0, 67, 70, 65, 63,\n",
            "        64, 76, 10,  0, 46, 71,  0, 75, 57, 81,  8,  0,  4, 46, 65, 74,  4, 10,\n",
            "         0, 46, 57, 81,  8,  0,  4, 52, 61, 75,  8,  0, 46, 65, 74,  0, 40, 57,\n",
            "        82, 71, 63, 57,  4, 10,  0,  0,  0,  0,  0,  0,  0,  0,  0,  0,  0,  1,\n",
            "        47, 64, 61, 70,  0, 40, 57, 74, 76, 65, 70,  0, 65, 75,  0, 63, 71, 70,\n",
            "        61, 10, 10, 10,  0, 76, 74, 81, 65, 70, 63,  0, 76, 71,  0, 57, 59, 59,\n",
            "        61, 72, 76,  0, 76, 64, 65, 75,  0,  0,  0,  0,  0,  0,  0,  0,  0,  0,\n",
            "         0,  0,  0,  1, 50, 64, 57, 76, 27,  0, 30, 57, 70,  0, 70, 71,  0, 71,\n",
            "        70, 61,  0, 65, 70,  0, 76, 64, 65, 75,  0, 63, 57, 70, 63,  0, 67, 61,\n",
            "        61, 72,  0, 76, 64, 65, 70, 63, 75,  0, 75, 61, 59, 74, 61, 76, 27,  0,\n",
            "         0,  0,  0,  0,  0,  0,  0,  0,  0,  0,  1, 36,  0, 75, 77, 72, 72, 71,\n",
            "        75, 61,  0, 81, 71, 77,  0, 76, 64, 65, 70, 67,  0, 81, 71, 77,  0, 67,\n",
            "        70, 71, 79,  0, 79, 64, 81,  0, 79, 61,  4, 78, 61,  0, 76, 57, 67, 61,\n",
            "        70,  0, 71, 78, 61, 74,  0, 76, 64, 61,  0, 29, 68, 71, 57, 76, 61, 60,\n",
            "         0, 33, 68, 71, 57, 76,  0, 57, 75,  0, 79, 61, 68, 68,  2,  0,  0,  0,\n",
            "         0,  0,  0,  1, 52, 71, 77,  0, 60, 71, 70,  4, 76,  0, 64, 57, 78, 61,\n",
            "         0, 76, 64, 61,  0, 63, 71, 68, 60, 10,  0, 36,  0, 64, 71, 72, 61,  0,\n",
            "        81, 71, 77,  0, 60, 65, 60, 70,  4, 76,  0, 76, 64, 65, 70, 67,  0, 36,\n",
            "         0, 79, 57, 75,  0, 66, 77, 75, 76,  0, 63, 71, 65, 70, 63,  0, 76, 71,\n",
            "         0, 63, 65, 78, 61,  0, 65, 76,  0, 76, 71,  0, 81, 71, 77, 27,  0, 65,\n",
            "        70, 60, 65, 63, 70, 57, 70, 76,  0,  1, 50, 64, 57, 76,  0, 57,  0, 72,\n",
            "        65, 76, 81, 10,  0,  0,  0,  0,  0,  0,  0,  0,  0,  0,  0,  0,  0,  0,\n",
            "         0,  0,  0,  0,  1, 32, 80, 59, 61, 68, 68, 61, 70, 76,  2,  0, 34, 71,\n",
            "         0, 71, 77, 76,  0, 76, 71,  0, 76, 64, 61,  0, 59, 71, 74, 74, 57, 68,\n",
            "        10,  0, 28, 70, 76, 65, 71, 70, 61,  0, 79, 65, 68, 68,  0, 64, 57, 78,\n",
            "        61,  0, 81, 71, 77, 74,  0, 70, 61, 79,  0, 29, 57, 81,  0, 75, 57, 60,\n",
            "        60, 68, 61, 60,  0, 57, 70, 60,  0, 74, 61, 57, 60, 81,  0, 62, 71, 74,\n",
            "         0, 81, 71, 77, 10,  0,  0,  0,  0,  1, 52, 71, 77,  0, 75, 64, 71, 77,\n",
            "        68, 60,  0, 71, 70, 68, 81,  0, 64, 57, 78, 61,  0, 63, 71, 71, 60, 58,\n",
            "        81, 61,  0, 57, 75,  0, 81, 71, 77, 74,  0, 71, 72, 76, 65, 71, 70, 10,\n",
            "         0,  0,  0,  0,  0,  0,  0,  0,  0,  0,  0,  0,  0,  1, 36, 76,  4, 75,\n",
            "         0, 57,  0, 72, 68, 61, 57, 75, 77, 74, 61,  0, 76, 71,  0, 64, 57, 78,\n",
            "        61,  0, 81, 71, 77,  0, 58, 61, 59, 71, 69, 61,  0, 57,  0, 59, 65, 76,\n",
            "        65, 82, 61, 70,  0, 71, 62,  0, 30, 64, 71, 74, 74, 71, 68, 10,  0, 36,\n",
            "         4, 68, 68,  0, 76, 57, 67, 61,  0, 59, 57, 74, 61,  0, 71, 62,  0, 76,\n",
            "        64, 61,  0, 60, 61, 61, 60, 10,  0,  0,  0,  0,  1, 35, 61, 74, 61,  0,\n",
            "        65, 75,  0, 81, 71, 77, 74,  0, 67, 61, 81, 10,  0, 47, 64, 61,  0, 64,\n",
            "        71, 77, 75, 61,  0, 65, 75,  0, 71, 70])\n"
          ]
        }
      ]
    },
    {
      "cell_type": "code",
      "source": [
        "# Let's now split up the data into train and validation sets\n",
        "n = int(0.9*len(data)) # first 90% will be train, rest val\n",
        "train_data = data[:n]\n",
        "val_data = data[n:]"
      ],
      "metadata": {
        "id": "f_WIXqxz0lU5"
      },
      "execution_count": null,
      "outputs": []
    },
    {
      "cell_type": "code",
      "source": [
        "block_size = 8\n",
        "train_data[:block_size+1]"
      ],
      "metadata": {
        "colab": {
          "base_uri": "https://localhost:8080/"
        },
        "id": "TD5Bj8Y6IAD4",
        "outputId": "a3318d35-66a3-4cdf-a406-1486e6a0bacb"
      },
      "execution_count": null,
      "outputs": [
        {
          "output_type": "execute_result",
          "data": {
            "text/plain": [
              "tensor([35, 65, 75,  0, 69, 61, 57, 70, 65])"
            ]
          },
          "metadata": {},
          "execution_count": 31
        }
      ]
    },
    {
      "cell_type": "code",
      "source": [
        "x = train_data[:block_size]\n",
        "y = train_data[1:block_size+1]\n",
        "for t in range(block_size):\n",
        "    context = x[:t+1]\n",
        "    target = y[t]\n",
        "    print(f\"when input is {context} the target: {target}\")"
      ],
      "metadata": {
        "colab": {
          "base_uri": "https://localhost:8080/"
        },
        "id": "9HXDe8vGJCEn",
        "outputId": "4c629931-c913-43de-a4a1-6f0d499bdb24"
      },
      "execution_count": null,
      "outputs": [
        {
          "output_type": "stream",
          "name": "stdout",
          "text": [
            "when input is tensor([35]) the target: 65\n",
            "when input is tensor([35, 65]) the target: 75\n",
            "when input is tensor([35, 65, 75]) the target: 0\n",
            "when input is tensor([35, 65, 75,  0]) the target: 69\n",
            "when input is tensor([35, 65, 75,  0, 69]) the target: 61\n",
            "when input is tensor([35, 65, 75,  0, 69, 61]) the target: 57\n",
            "when input is tensor([35, 65, 75,  0, 69, 61, 57]) the target: 70\n",
            "when input is tensor([35, 65, 75,  0, 69, 61, 57, 70]) the target: 65\n"
          ]
        }
      ]
    },
    {
      "cell_type": "code",
      "source": [
        "torch.manual_seed(1337)\n",
        "batch_size = 4 # how many independent sequences will we process in parallel?\n",
        "block_size = 8 # what is the maximum context length for predictions?\n",
        "\n",
        "def get_batch(split):\n",
        "    # generate a small batch of data of inputs x and targets y\n",
        "    data = train_data if split == 'train' else val_data\n",
        "    ix = torch.randint(len(data) - block_size, (batch_size,))\n",
        "    x = torch.stack([data[i:i+block_size] for i in ix])\n",
        "    y = torch.stack([data[i+1:i+block_size+1] for i in ix])\n",
        "    return x, y\n",
        "\n",
        "xb, yb = get_batch('train')\n",
        "print('inputs:')\n",
        "print(xb.shape)\n",
        "print(xb)\n",
        "print('targets:')\n",
        "print(yb.shape)\n",
        "print(yb)\n",
        "\n",
        "print('----')\n",
        "\n",
        "for b in range(batch_size): # batch dimension\n",
        "    for t in range(block_size): # time dimension\n",
        "        context = xb[b, :t+1]\n",
        "        target = yb[b,t]\n",
        "        print(f\"when input is {context.tolist()} the target: {target}\")"
      ],
      "metadata": {
        "colab": {
          "base_uri": "https://localhost:8080/"
        },
        "id": "Q3k1Czf7LuA9",
        "outputId": "50edffc9-fa2e-4fca-8884-4c67bc32b242"
      },
      "execution_count": null,
      "outputs": [
        {
          "output_type": "stream",
          "name": "stdout",
          "text": [
            "inputs:\n",
            "torch.Size([4, 8])\n",
            "tensor([[ 0,  0,  0,  0,  0,  0,  0,  1],\n",
            "        [68, 65, 61, 78, 61,  0, 76, 64],\n",
            "        [77, 75,  0, 36, 70, 78, 61, 70],\n",
            "        [71, 77,  0, 79, 71, 70,  4, 76]])\n",
            "targets:\n",
            "torch.Size([4, 8])\n",
            "tensor([[ 0,  0,  0,  0,  0,  0,  1, 36],\n",
            "        [65, 61, 78, 61,  0, 76, 64, 57],\n",
            "        [75,  0, 36, 70, 78, 61, 70, 76],\n",
            "        [77,  0, 79, 71, 70,  4, 76,  0]])\n",
            "----\n",
            "when input is [0] the target: 0\n",
            "when input is [0, 0] the target: 0\n",
            "when input is [0, 0, 0] the target: 0\n",
            "when input is [0, 0, 0, 0] the target: 0\n",
            "when input is [0, 0, 0, 0, 0] the target: 0\n",
            "when input is [0, 0, 0, 0, 0, 0] the target: 0\n",
            "when input is [0, 0, 0, 0, 0, 0, 0] the target: 1\n",
            "when input is [0, 0, 0, 0, 0, 0, 0, 1] the target: 36\n",
            "when input is [68] the target: 65\n",
            "when input is [68, 65] the target: 61\n",
            "when input is [68, 65, 61] the target: 78\n",
            "when input is [68, 65, 61, 78] the target: 61\n",
            "when input is [68, 65, 61, 78, 61] the target: 0\n",
            "when input is [68, 65, 61, 78, 61, 0] the target: 76\n",
            "when input is [68, 65, 61, 78, 61, 0, 76] the target: 64\n",
            "when input is [68, 65, 61, 78, 61, 0, 76, 64] the target: 57\n",
            "when input is [77] the target: 75\n",
            "when input is [77, 75] the target: 0\n",
            "when input is [77, 75, 0] the target: 36\n",
            "when input is [77, 75, 0, 36] the target: 70\n",
            "when input is [77, 75, 0, 36, 70] the target: 78\n",
            "when input is [77, 75, 0, 36, 70, 78] the target: 61\n",
            "when input is [77, 75, 0, 36, 70, 78, 61] the target: 70\n",
            "when input is [77, 75, 0, 36, 70, 78, 61, 70] the target: 76\n",
            "when input is [71] the target: 77\n",
            "when input is [71, 77] the target: 0\n",
            "when input is [71, 77, 0] the target: 79\n",
            "when input is [71, 77, 0, 79] the target: 71\n",
            "when input is [71, 77, 0, 79, 71] the target: 70\n",
            "when input is [71, 77, 0, 79, 71, 70] the target: 4\n",
            "when input is [71, 77, 0, 79, 71, 70, 4] the target: 76\n",
            "when input is [71, 77, 0, 79, 71, 70, 4, 76] the target: 0\n"
          ]
        }
      ]
    },
    {
      "cell_type": "code",
      "source": [
        "print(xb) # our input to the transformer"
      ],
      "metadata": {
        "colab": {
          "base_uri": "https://localhost:8080/"
        },
        "id": "qpyyAeIzQjlO",
        "outputId": "f3f91fd5-f893-4d23-fff5-ce48b66d68ed"
      },
      "execution_count": null,
      "outputs": [
        {
          "output_type": "stream",
          "name": "stdout",
          "text": [
            "tensor([[ 0,  0,  0,  0,  0,  0,  0,  1],\n",
            "        [68, 65, 61, 78, 61,  0, 76, 64],\n",
            "        [77, 75,  0, 36, 70, 78, 61, 70],\n",
            "        [71, 77,  0, 79, 71, 70,  4, 76]])\n"
          ]
        }
      ]
    },
    {
      "cell_type": "code",
      "source": [
        "import torch\n",
        "import torch.nn as nn\n",
        "from torch.nn import functional as F\n",
        "torch.manual_seed(1337)\n",
        "\n",
        "class BigramLanguageModel(nn.Module):\n",
        "\n",
        "    def __init__(self, vocab_size):\n",
        "        super().__init__()\n",
        "        # each token directly reads off the logits for the next token from a lookup table\n",
        "        self.token_embedding_table = nn.Embedding(vocab_size, vocab_size)\n",
        "\n",
        "    def forward(self, idx, targets=None):\n",
        "\n",
        "        # idx and targets are both (B,T) tensor of integers\n",
        "        logits = self.token_embedding_table(idx) # (B,T,C)\n",
        "        if targets is None:\n",
        "            loss = None\n",
        "        else:\n",
        "            B, T, C = logits.shape\n",
        "            logits = logits.view(B*T, C)\n",
        "            targets = targets.view(B*T)\n",
        "            loss = F.cross_entropy(logits, targets)\n",
        "\n",
        "        return logits, loss\n",
        "\n",
        "    def generate(self, idx, max_new_tokens):\n",
        "        # idx is (B, T) array of indices in the current context\n",
        "        for _ in range(max_new_tokens):\n",
        "            # get the predictions\n",
        "            logits, loss = self(idx)\n",
        "            # focus only on the last time step\n",
        "            logits = logits[:, -1, :] # becomes (B, C)\n",
        "            # apply softmax to get probabilities\n",
        "            probs = F.softmax(logits, dim=-1) # (B, C)\n",
        "            # sample from the distribution\n",
        "            idx_next = torch.multinomial(probs, num_samples=1) # (B, 1)\n",
        "            # append sampled index to the running sequence\n",
        "            idx = torch.cat((idx, idx_next), dim=1) # (B, T+1)\n",
        "        return idx\n",
        "\n",
        "m = BigramLanguageModel(vocab_size)\n",
        "logits, loss = m(xb, yb)\n",
        "print(logits.shape)\n",
        "print(loss)\n",
        "\n",
        "print(decode(m.generate(idx = torch.zeros((1, 1), dtype=torch.long), max_new_tokens=100)[0].tolist()))\n"
      ],
      "metadata": {
        "colab": {
          "base_uri": "https://localhost:8080/"
        },
        "id": "nql_1ER53oCf",
        "outputId": "771bcc41-c5ab-4289-81d0-575d9af6fbb9"
      },
      "execution_count": null,
      "outputs": [
        {
          "output_type": "stream",
          "name": "stdout",
          "text": [
            "torch.Size([32, 85])\n",
            "tensor(4.9580, grad_fn=<NllLossBackward0>)\n",
            "\tDA\n",
            "jHPYgtds2GB\n",
            "HO71axBO!-EBpU18'23FIMëa_IpvpwP;6oQ8lnNgvwH_qs'Syc&b-a&<Xka183Cp/tdV;rJ\n",
            "BeNDHr50TR<;h\n"
          ]
        }
      ]
    },
    {
      "cell_type": "code",
      "source": [
        "# create a PyTorch optimizer\n",
        "optimizer = torch.optim.AdamW(m.parameters(), lr=1e-3)"
      ],
      "metadata": {
        "id": "eTyJ8qAaDdiF"
      },
      "execution_count": null,
      "outputs": []
    },
    {
      "cell_type": "code",
      "source": [
        "batch_size = 32\n",
        "for steps in range(150): # increase number of steps for good results...\n",
        "\n",
        "    # sample a batch of data\n",
        "    xb, yb = get_batch('train')\n",
        "\n",
        "    # evaluate the loss\n",
        "    logits, loss = m(xb, yb)\n",
        "    optimizer.zero_grad(set_to_none=True)\n",
        "    loss.backward()\n",
        "    optimizer.step()\n",
        "\n",
        "print(loss.item())\n"
      ],
      "metadata": {
        "colab": {
          "base_uri": "https://localhost:8080/"
        },
        "id": "Hs4kI8YdEkQj",
        "outputId": "48575cdc-74a2-42fd-d66a-3ad6a6c00b1e"
      },
      "execution_count": null,
      "outputs": [
        {
          "output_type": "stream",
          "name": "stdout",
          "text": [
            "4.947105407714844\n"
          ]
        }
      ]
    },
    {
      "cell_type": "code",
      "source": [
        "print(decode(m.generate(idx = torch.zeros((1, 1), dtype=torch.long), max_new_tokens=500)[0].tolist()))"
      ],
      "metadata": {
        "colab": {
          "base_uri": "https://localhost:8080/"
        },
        "id": "EcVIDWAZEtjN",
        "outputId": "75d40c92-bc37-4aca-b347-76b172bfcfd2"
      },
      "execution_count": null,
      "outputs": [
        {
          "output_type": "stream",
          "name": "stdout",
          "text": [
            "\tëfD*nv['SC=N)&lT;rWjpZJBoM3'[\n",
            "1\t4<\t*G8pds4b&Q=BG8>8NN6KTblHJWw87JG7JJ2hzx;K7cc7WRxSWnRxO0'Cl]MZjBp3M4SeD,0HDwI&n9aOsqkQ9Cg<7plx9.'.DgGFI=7&(jP?…CXg9!7GUAQJGBpg;]]FI]a_AkRR;N[iO!/>'5'KjHSL)UNO0&yëj1_Jy1Md-&*).vëL/T.IW!1:A7;>=q.05.]E4y?PhIë>hIHpWsQ_nr)pZ4M…u…N<RbwPnrjf<.Dg9a1q!XA4;NjYa1Jn.4/Cs2x:\tD-myLg:ëjWSo_cfmT'tGI:N*\t_qoU8p*G)/S=*YEwTUbjhJ(1lHSJJkj_]u,Dnr*7umG,:1VZAQ7kd*:ëSvLi4.BEp)Yl<3ëe4WA?Q)<XQaO!M?MOV(0pI&lOGWS4b*,'-?/d9.7d,T]PYQ9I&lOmP710Jfs.gO,EXoIoR\teY4e;18:N*nQ[Hwh?y&\t,DJ.\n",
            "Ujvy&jjHOP,!\n"
          ]
        }
      ]
    },
    {
      "cell_type": "code",
      "source": [
        "# version 4: self-attention!\n",
        "torch.manual_seed(1337)\n",
        "B,T,C = 4,8,32 # batch, time, channels\n",
        "x = torch.randn(B,T,C)\n",
        "\n",
        "# let's see a single Head perform self-attention\n",
        "head_size = 16\n",
        "key = nn.Linear(C, head_size, bias=False)\n",
        "query = nn.Linear(C, head_size, bias=False)\n",
        "value = nn.Linear(C, head_size, bias=False)\n",
        "k = key(x)   # (B, T, 16)\n",
        "q = query(x) # (B, T, 16)\n",
        "wei =  q @ k.transpose(-2, -1) # (B, T, 16) @ (B, 16, T) ---> (B, T, T)\n",
        "\n",
        "tril = torch.tril(torch.ones(T, T))\n",
        "#wei = torch.zeros((T,T))\n",
        "wei = wei.masked_fill(tril == 0, float('-inf'))\n",
        "wei = F.softmax(wei, dim=-1)\n",
        "\n",
        "v = value(x)\n",
        "out = wei @ v\n",
        "#out = wei @ x\n",
        "\n",
        "out.shape"
      ],
      "metadata": {
        "colab": {
          "base_uri": "https://localhost:8080/"
        },
        "id": "2cvN3nWaWwbT",
        "outputId": "57101677-4e3f-4c86-beea-74455792e3b6"
      },
      "execution_count": null,
      "outputs": [
        {
          "output_type": "execute_result",
          "data": {
            "text/plain": [
              "torch.Size([4, 8, 16])"
            ]
          },
          "metadata": {},
          "execution_count": 39
        }
      ]
    },
    {
      "cell_type": "code",
      "source": [
        "wei[0]"
      ],
      "metadata": {
        "colab": {
          "base_uri": "https://localhost:8080/"
        },
        "id": "u_KaFoJ9XVvP",
        "outputId": "a0f769d9-e163-40ba-b7c0-92de6d14149f"
      },
      "execution_count": null,
      "outputs": [
        {
          "output_type": "execute_result",
          "data": {
            "text/plain": [
              "tensor([[1.0000, 0.0000, 0.0000, 0.0000, 0.0000, 0.0000, 0.0000, 0.0000],\n",
              "        [0.1574, 0.8426, 0.0000, 0.0000, 0.0000, 0.0000, 0.0000, 0.0000],\n",
              "        [0.2088, 0.1646, 0.6266, 0.0000, 0.0000, 0.0000, 0.0000, 0.0000],\n",
              "        [0.5792, 0.1187, 0.1889, 0.1131, 0.0000, 0.0000, 0.0000, 0.0000],\n",
              "        [0.0294, 0.1052, 0.0469, 0.0276, 0.7909, 0.0000, 0.0000, 0.0000],\n",
              "        [0.0176, 0.2689, 0.0215, 0.0089, 0.6812, 0.0019, 0.0000, 0.0000],\n",
              "        [0.1691, 0.4066, 0.0438, 0.0416, 0.1048, 0.2012, 0.0329, 0.0000],\n",
              "        [0.0210, 0.0843, 0.0555, 0.2297, 0.0573, 0.0709, 0.2423, 0.2391]],\n",
              "       grad_fn=<SelectBackward0>)"
            ]
          },
          "metadata": {},
          "execution_count": 40
        }
      ]
    },
    {
      "cell_type": "code",
      "source": [
        "import torch\n",
        "import torch.nn as nn\n",
        "from torch.nn import functional as F\n",
        "\n",
        "# hyperparameters\n",
        "batch_size = 16 # how many independent sequences will we process in parallel?\n",
        "block_size = 32 # what is the maximum context length for predictions?\n",
        "max_iters = 5000\n",
        "eval_interval = 100\n",
        "learning_rate = 1e-3\n",
        "device = 'cuda' if torch.cuda.is_available() else 'cpu'\n",
        "eval_iters = 200\n",
        "n_embd = 64\n",
        "n_head = 4\n",
        "n_layer = 4\n",
        "dropout = 0.0\n",
        "# ------------\n",
        "\n",
        "torch.manual_seed(1337)\n",
        "\n",
        "# wget https://raw.githubusercontent.com/karpathy/char-rnn/master/data/tinyshakespeare/input.txt\n",
        "# changed to input1.txt\n",
        "with open('input1.txt', 'r', encoding='utf-8') as f:\n",
        "    text = f.read()\n",
        "\n",
        "# here are all the unique characters that occur in this text\n",
        "chars = sorted(list(set(text)))\n",
        "vocab_size = len(chars)\n",
        "# create a mapping from characters to integers\n",
        "stoi = { ch:i for i,ch in enumerate(chars) }\n",
        "itos = { i:ch for i,ch in enumerate(chars) }\n",
        "encode = lambda s: [stoi[c] for c in s] # encoder: take a string, output a list of integers\n",
        "decode = lambda l: ''.join([itos[i] for i in l]) # decoder: take a list of integers, output a string\n",
        "\n",
        "# Train and test splits\n",
        "data = torch.tensor(encode(text), dtype=torch.long)\n",
        "n = int(0.9*len(data)) # first 90% will be train, rest val\n",
        "train_data = data[:n]\n",
        "val_data = data[n:]\n",
        "\n",
        "# data loading\n",
        "def get_batch(split):\n",
        "    # generate a small batch of data of inputs x and targets y\n",
        "    data = train_data if split == 'train' else val_data\n",
        "    ix = torch.randint(len(data) - block_size, (batch_size,))\n",
        "    x = torch.stack([data[i:i+block_size] for i in ix])\n",
        "    y = torch.stack([data[i+1:i+block_size+1] for i in ix])\n",
        "    x, y = x.to(device), y.to(device)\n",
        "    return x, y\n",
        "\n",
        "@torch.no_grad()\n",
        "def estimate_loss():\n",
        "    out = {}\n",
        "    model.eval()\n",
        "    for split in ['train', 'val']:\n",
        "        losses = torch.zeros(eval_iters)\n",
        "        for k in range(eval_iters):\n",
        "            X, Y = get_batch(split)\n",
        "            logits, loss = model(X, Y)\n",
        "            losses[k] = loss.item()\n",
        "        out[split] = losses.mean()\n",
        "    model.train()\n",
        "    return out\n",
        "\n",
        "class Head(nn.Module):\n",
        "    \"\"\" one head of self-attention \"\"\"\n",
        "\n",
        "    def __init__(self, head_size):\n",
        "        super().__init__()\n",
        "        self.key = nn.Linear(n_embd, head_size, bias=False)\n",
        "        self.query = nn.Linear(n_embd, head_size, bias=False)\n",
        "        self.value = nn.Linear(n_embd, head_size, bias=False)\n",
        "        self.register_buffer('tril', torch.tril(torch.ones(block_size, block_size)))\n",
        "\n",
        "        self.dropout = nn.Dropout(dropout)\n",
        "\n",
        "    def forward(self, x):\n",
        "        B,T,C = x.shape\n",
        "        k = self.key(x)   # (B,T,C)\n",
        "        q = self.query(x) # (B,T,C)\n",
        "        # compute attention scores (\"affinities\")\n",
        "        wei = q @ k.transpose(-2,-1) * C**-0.5 # (B, T, C) @ (B, C, T) -> (B, T, T)\n",
        "        wei = wei.masked_fill(self.tril[:T, :T] == 0, float('-inf')) # (B, T, T)\n",
        "        wei = F.softmax(wei, dim=-1) # (B, T, T)\n",
        "        wei = self.dropout(wei)\n",
        "        # perform the weighted aggregation of the values\n",
        "        v = self.value(x) # (B,T,C)\n",
        "        out = wei @ v # (B, T, T) @ (B, T, C) -> (B, T, C)\n",
        "        return out\n",
        "\n",
        "class MultiHeadAttention(nn.Module):\n",
        "    \"\"\" multiple heads of self-attention in parallel \"\"\"\n",
        "\n",
        "    def __init__(self, num_heads, head_size):\n",
        "        super().__init__()\n",
        "        self.heads = nn.ModuleList([Head(head_size) for _ in range(num_heads)])\n",
        "        self.proj = nn.Linear(n_embd, n_embd)\n",
        "        self.dropout = nn.Dropout(dropout)\n",
        "\n",
        "    def forward(self, x):\n",
        "        out = torch.cat([h(x) for h in self.heads], dim=-1)\n",
        "        out = self.dropout(self.proj(out))\n",
        "        return out\n",
        "\n",
        "class FeedFoward(nn.Module):\n",
        "    \"\"\" a simple linear layer followed by a non-linearity \"\"\"\n",
        "\n",
        "    def __init__(self, n_embd):\n",
        "        super().__init__()\n",
        "        self.net = nn.Sequential(\n",
        "            nn.Linear(n_embd, 4 * n_embd),\n",
        "            nn.ReLU(),\n",
        "            nn.Linear(4 * n_embd, n_embd),\n",
        "            nn.Dropout(dropout),\n",
        "        )\n",
        "\n",
        "    def forward(self, x):\n",
        "        return self.net(x)\n",
        "\n",
        "class Block(nn.Module):\n",
        "    \"\"\" Transformer block: communication followed by computation \"\"\"\n",
        "\n",
        "    def __init__(self, n_embd, n_head):\n",
        "        # n_embd: embedding dimension, n_head: the number of heads we'd like\n",
        "        super().__init__()\n",
        "        head_size = n_embd // n_head\n",
        "        self.sa = MultiHeadAttention(n_head, head_size)\n",
        "        self.ffwd = FeedFoward(n_embd)\n",
        "        self.ln1 = nn.LayerNorm(n_embd)\n",
        "        self.ln2 = nn.LayerNorm(n_embd)\n",
        "\n",
        "    def forward(self, x):\n",
        "        x = x + self.sa(self.ln1(x))\n",
        "        x = x + self.ffwd(self.ln2(x))\n",
        "        return x\n",
        "\n",
        "# super simple bigram model\n",
        "class BigramLanguageModel(nn.Module):\n",
        "\n",
        "    def __init__(self):\n",
        "        super().__init__()\n",
        "        # each token directly reads off the logits for the next token from a lookup table\n",
        "        self.token_embedding_table = nn.Embedding(vocab_size, n_embd)\n",
        "        self.position_embedding_table = nn.Embedding(block_size, n_embd)\n",
        "        self.blocks = nn.Sequential(*[Block(n_embd, n_head=n_head) for _ in range(n_layer)])\n",
        "        self.ln_f = nn.LayerNorm(n_embd) # final layer norm\n",
        "        self.lm_head = nn.Linear(n_embd, vocab_size)\n",
        "\n",
        "    def forward(self, idx, targets=None):\n",
        "        B, T = idx.shape\n",
        "\n",
        "        # idx and targets are both (B,T) tensor of integers\n",
        "        tok_emb = self.token_embedding_table(idx) # (B,T,C)\n",
        "        pos_emb = self.position_embedding_table(torch.arange(T, device=device)) # (T,C)\n",
        "        x = tok_emb + pos_emb # (B,T,C)\n",
        "        x = self.blocks(x) # (B,T,C)\n",
        "        x = self.ln_f(x) # (B,T,C)\n",
        "        logits = self.lm_head(x) # (B,T,vocab_size)\n",
        "\n",
        "        if targets is None:\n",
        "            loss = None\n",
        "        else:\n",
        "            B, T, C = logits.shape\n",
        "            logits = logits.view(B*T, C)\n",
        "            targets = targets.view(B*T)\n",
        "            loss = F.cross_entropy(logits, targets)\n",
        "\n",
        "        return logits, loss\n",
        "\n",
        "    def generate(self, idx, max_new_tokens):\n",
        "        # idx is (B, T) array of indices in the current context\n",
        "        for _ in range(max_new_tokens):\n",
        "            # crop idx to the last block_size tokens\n",
        "            idx_cond = idx[:, -block_size:]\n",
        "            # get the predictions\n",
        "            logits, loss = self(idx_cond)\n",
        "            # focus only on the last time step\n",
        "            logits = logits[:, -1, :] # becomes (B, C)\n",
        "            # apply softmax to get probabilities\n",
        "            probs = F.softmax(logits, dim=-1) # (B, C)\n",
        "            # sample from the distribution\n",
        "            idx_next = torch.multinomial(probs, num_samples=1) # (B, 1)\n",
        "            # append sampled index to the running sequence\n",
        "            idx = torch.cat((idx, idx_next), dim=1) # (B, T+1)\n",
        "        return idx\n",
        "\n",
        "model = BigramLanguageModel()\n",
        "m = model.to(device)\n",
        "# print the number of parameters in the model\n",
        "print(sum(p.numel() for p in m.parameters())/1e6, 'M parameters')\n",
        "\n",
        "# create a PyTorch optimizer\n",
        "optimizer = torch.optim.AdamW(model.parameters(), lr=learning_rate)\n",
        "\n",
        "for iter in range(max_iters):\n",
        "\n",
        "    # every once in a while evaluate the loss on train and val sets\n",
        "    if iter % eval_interval == 0 or iter == max_iters - 1:\n",
        "        losses = estimate_loss()\n",
        "        print(f\"step {iter}: train loss {losses['train']:.4f}, val loss {losses['val']:.4f}\")\n",
        "\n",
        "    # sample a batch of data\n",
        "    xb, yb = get_batch('train')\n",
        "\n",
        "    # evaluate the loss\n",
        "    logits, loss = model(xb, yb)\n",
        "    optimizer.zero_grad(set_to_none=True)\n",
        "    loss.backward()\n",
        "    optimizer.step()\n",
        "\n",
        "# generate from the model\n",
        "context = torch.zeros((1, 1), dtype=torch.long, device=device)\n",
        "print(decode(m.generate(context, max_new_tokens=2000)[0].tolist()))"
      ],
      "metadata": {
        "colab": {
          "base_uri": "https://localhost:8080/"
        },
        "id": "TNrf8FIqaltZ",
        "outputId": "585016f0-a962-4ae6-dbdf-c84674f50e93"
      },
      "execution_count": null,
      "outputs": [
        {
          "output_type": "stream",
          "name": "stdout",
          "text": [
            "0.212309 M parameters\n",
            "step 0: train loss 4.8702, val loss 4.7961\n",
            "step 100: train loss 2.5555, val loss 2.6350\n",
            "step 200: train loss 2.3573, val loss 2.4322\n",
            "step 300: train loss 2.2339, val loss 2.3259\n",
            "step 400: train loss 2.1409, val loss 2.2559\n",
            "step 500: train loss 2.0971, val loss 2.1961\n",
            "step 600: train loss 2.0501, val loss 2.1393\n",
            "step 700: train loss 1.9990, val loss 2.0877\n",
            "step 800: train loss 1.9690, val loss 2.0535\n",
            "step 900: train loss 1.9144, val loss 2.0214\n",
            "step 1000: train loss 1.9053, val loss 1.9759\n",
            "step 1100: train loss 1.8722, val loss 1.9456\n",
            "step 1200: train loss 1.8363, val loss 1.9262\n",
            "step 1300: train loss 1.8234, val loss 1.9119\n",
            "step 1400: train loss 1.7953, val loss 1.8774\n",
            "step 1500: train loss 1.7527, val loss 1.8550\n",
            "step 1600: train loss 1.7436, val loss 1.8461\n",
            "step 1700: train loss 1.7372, val loss 1.8239\n",
            "step 1800: train loss 1.7262, val loss 1.8051\n",
            "step 1900: train loss 1.7222, val loss 1.8076\n",
            "step 2000: train loss 1.6881, val loss 1.7802\n",
            "step 2100: train loss 1.6977, val loss 1.7732\n",
            "step 2200: train loss 1.6707, val loss 1.7672\n",
            "step 2300: train loss 1.6561, val loss 1.7486\n",
            "step 2400: train loss 1.6534, val loss 1.7506\n",
            "step 2500: train loss 1.6410, val loss 1.7270\n",
            "step 2600: train loss 1.6304, val loss 1.7175\n",
            "step 2700: train loss 1.6144, val loss 1.7155\n",
            "step 2800: train loss 1.6219, val loss 1.7139\n",
            "step 2900: train loss 1.6143, val loss 1.6880\n",
            "step 3000: train loss 1.5942, val loss 1.6961\n",
            "step 3100: train loss 1.5857, val loss 1.6970\n",
            "step 3200: train loss 1.5890, val loss 1.6881\n",
            "step 3300: train loss 1.6000, val loss 1.6853\n",
            "step 3400: train loss 1.5800, val loss 1.6728\n",
            "step 3500: train loss 1.5643, val loss 1.6722\n",
            "step 3600: train loss 1.5388, val loss 1.6514\n",
            "step 3700: train loss 1.5528, val loss 1.6539\n",
            "step 3800: train loss 1.5539, val loss 1.6489\n",
            "step 3900: train loss 1.5378, val loss 1.6317\n",
            "step 4000: train loss 1.5464, val loss 1.6465\n",
            "step 4100: train loss 1.5308, val loss 1.6141\n",
            "step 4200: train loss 1.5444, val loss 1.6392\n",
            "step 4300: train loss 1.5255, val loss 1.6360\n",
            "step 4400: train loss 1.5225, val loss 1.6161\n",
            "step 4500: train loss 1.5065, val loss 1.6144\n",
            "step 4600: train loss 1.5111, val loss 1.6152\n",
            "step 4700: train loss 1.5143, val loss 1.6146\n",
            "step 4800: train loss 1.4916, val loss 1.5895\n",
            "step 4900: train loss 1.4983, val loss 1.6115\n",
            "step 4999: train loss 1.4971, val loss 1.6042\n",
            "\tNow\tiquedine\tto\tnecreated\tof\theared?\tAhan,\tArgonian.\t\t\t\t\t\t\t\t\n",
            "Oh.\t\t\t\t\t\t\t\t\t\t\t\n",
            "and\tbange,\tyou\tcan\tthe\tkeep\tof\tthe\tAready\tabready\ttof\tthe\tplase\tattack\tthose\tHortran's\tin\tCylanting\tindered\tour\tof\ther\tinems\tof\tMage?\t\t\t\t\t\t\t\t\t\t\t\t\t\t\t\t\t\t\t\t\t\n",
            "When\tforeou\tlike\tto\tshe\tmy\tjoengy\tmuch.\tYou\thave\this\tin\tturoutized\tthis...\t\t\t\t\t\t\t\n",
            "With\tLeet\tprotheseln\tin\tstone\tlow\tout\tan\tit.\tThey\tme\tdurell\tmy.\t\t\t\t\t\t\t\n",
            "Hailon\tyou'll\there.\t\t\t\t\t\t\t\t\t\t\t\t\t\t\t\t\n",
            "New\tburr\tyou...\t\n",
            "I\thappen.\tI\tnot\tdo\tyou\tnow,\tWe\tis\tis\tperhaps\tawaylide\traven\tdead\tdo\tyou.\n",
            "Let's\tabout\ther\tthis.\tBraffle.\t\n",
            "She\tdo\tyou\tintereating\tof\tmine,\tthe\tthis\tabtack\tto\tHearging,\tthe\tjupin.\tI\tcan't\tthese\tpelsier.\tI\tdarmish\tprimich-athers....\tIt's\torder\tsake\tto\twolds\treand\tturnings\tnew\triden!\t\t\t\n",
            "The\tHe'de\tyou\tnever\tyour\tpertured!\tyou\tholese\tyou\thave\teneWarmorinnink.\t\t\n",
            "Addry\tyou\tof\tthe\tSylamed\tin\tthis...\t\t\t\t\t\n",
            "Comister\tthis\tainess\tin\tsacce\tyou\tbearatiefully\t\t\t\t\n",
            "I\tunder\tthe\tabour\ton\tsurcosson\tof\tsircit\tare\tdeari\tMoraci's\tfamispeling\tof\tthe,\tcarber.\tI\telmy.\t\n",
            "If\tyour\tpower\tyou?\tGrayet.\tMust\this\tthe\tpleased\tof\tthis.\t\t\t\t\t\t\t\t\t\n",
            "0have\tand\twe\tdaid\ttolding?\t\t\t\t\t\t\t\t\t\t\t\t\t\t\n",
            "I\tdon't\twake\thelp\tmake\tnever\tis\tweare...\t\t\n",
            "Well,\tthe\tMothes\tAwail\tdrinkey\tordier\tthe\tdoes\tis\tsomething\tto\tLeyayen\tin\tto\tsime\tsoure\tof\tthis.\tOne\tthe\tfine\tyou!\t\texported\tsoon,\tin\tinnoterous\toolights\tid\ta\tfear\tordie.\tWe\thave\troone\tthe\tthight\tthan\tcolloroming\tone.\t\t\t\t\t\t\t\t\t\t\t\t\t\t\t\t\n",
            "Now\tsoon\ta\tperfect\tI\ttown\twithin\tthis\tingy\trecuded.\tthe\tsoilty\the\twait\ttide\towly.\t\t\t\t\t\t\t\t\t\t\t\t\n",
            "Yid\ttale\tcome\tchands\thave\there\tto\tus\tyou\tin\tone\tit\tof\tthe\tout.\tHere\tour.\tHe\tpleased\tthe\tkilled\ttoo\twattath.\t\t\n",
            "If\tyou\tpien\talrice.\t\t\t\t\t\t\t\t\t\t\t\t\t\t\n",
            "You\treadned\ttose\tI'm\tsorned\tfone.\t\n",
            "Dot's\ta\tpurine.\tNot\tshalls\tthe\tSheogorath\tineal\t\t\t\t\t\t\t\n",
            "For\tyou...,mide.\tLet's\tan\tyour\the's\tshould\tso\tyou\teachingt\tme!\tI\tdon't\tnevil\tto\tbattle\tyou\tknown\tit\tone\tagoway\tlue\tis\tof\tfaur\tto\tthe\tSkopict!\t\n",
            "I'm\thanor\tthe\tpurmor.\tI'm\taquehoice\tme\tof\tthe\twas\ther\tdear,\tthe\tpain!\tWe\tcoustly.\t\t\t\t\t\t\n",
            "Konightm:\tHERot\tback.\tThat\tEcrost\teivery\tof\tthe\tspervally\tgood\tmore\tme.\n",
            "I\n"
          ]
        }
      ]
    },
    {
      "cell_type": "code",
      "source": [
        "# generate from the model\n",
        "context = torch.zeros((1, 1), dtype=torch.long, device=device)\n",
        "print(decode(m.generate(context, max_new_tokens=2000)[0].tolist()))"
      ],
      "metadata": {
        "colab": {
          "base_uri": "https://localhost:8080/"
        },
        "id": "j3x3I3t5dZII",
        "outputId": "3a733ea3-357d-4557-fb40-ec0647358bd0"
      },
      "execution_count": null,
      "outputs": [
        {
          "output_type": "stream",
          "name": "stdout",
          "text": [
            "\tplease!\t\t\t\t\t\t\t\t\t\t\t\t\t\n",
            "I\twat\tyou\tcan\tLord\tI\tgland\tub\thonaiil\t\n",
            "I\tmore\tquies\tlet\tready\tuptracts\tGuild\tin-I\thear\tshamps\ttroubled\tnow\tdrougns\tthink\tgoe.\then't\tkeleeps\tto\tthink\tderough\twhete\tmay\this\tsolderhated\tengiact\tund\ta\tbefore\tto\tveryment\turder!\t\t\t\t\t\t\t\t\t\t\t\t\n",
            "The\tLet\tcrove.\tWhy\talis\tnothing\tmore!\tNother\tyou\thapirge\tin\tCust\tsafore\tthis\tbook\tprestectuess\tliferich.\t\t\t\t\t\t\t\t\n",
            "I\tdoind\thoused\tto\tstome\tthis\tGrovivings\t/idy\twinger.\tYes?\tHere\tone\tago\tenations.\t\t\t\t\t\t\t\t\t\t\n",
            "Eara\tOk\tyone\tup....\tI\twould\ta\tfamages\tof\thead,\tthe\tsound\though.\tForksmewayer\tGatess\tthey\tcan\tabouth\tmight\tis\tboods,\tin\told\tbettable\tit\tthat?\t\t\t\t\t\t\t\t\t\t\t\t\n",
            "Intor\tthe\tTake\thappatiable.\tNord\the's\ttrattle.\t\n",
            "Stome\tdead\tsuccrvamen\tMarien\tmay\tit\tcalvil\tthe\tEmpirion\tGlorde\tmuseve\tyou?\tA\trugh?in\tehally\tcure\tif\tthe\tskowo\ther\tis\ta\tdectsmometious\tis\tover\toble!\n",
            "Oh!\tThere's\ta\tluck.\tThe\tserven\tthe\tCriticeu.\t\t\t\t\n",
            "I\ttrip?\tBeforiee.\t\n",
            "We\tdeready\thate\tthis\tacconail\twatcriong.\t\n",
            "I\thave\tgo\tdiditurebler.\tBaravely.\tWhat's\tdealthing\ttasky\tin\tto\tgette\tof\tmy\tmy\tplease.\tI\twill\tare\tof\ther.\t\t\t\t\t\t\t\t\t\t\t\t\t\t\t\t\t\n",
            "Blood,\tyou\thave\tthe\twarmings\tabk\twite.\t\t\t\t\t\t\n",
            "It\tmove\tis\tone\tsunter\tyou\ther\tgo\tyour\tstoped!\t\t\t\t\t\n",
            "Tha....\tCould\tstops\tsurede\t\t\t\t\t\t\t\t\n",
            "That's\tgot\tcervaines\tof\tSade\tin\ta\thonorlyal\tdro\tatchels?\tAll\tsmioupbe,\tcan't\tsome\texplected\tos\tonew\tout\tit\twe\ta\twithing\there.\t\t\t\t\t\t\t\t\t\n",
            "Oway.\tI\talmistent.\tI\tstirt.\tIt's\tout\tever-Mume,\ta\tponners\tof\tyou.\tI\tthink\tthe\tweall\ttrue\tto\tservathy\tout\t[QUOT.\tI\tcan\twatch\tprovicess\tof\tyou\the's.\n",
            "The\tCastar?\tAna.\tDete\thalo\ted\tMastere\tof\tcorrus.\t\t\t\t\t\t\t\t\n",
            "You\twant\tthe\tf\there.\t\t\t\t\t\t\t\t\t\t\t\t\t\t\t\t\t\n",
            "That's\tdient.\tBruma?\tThan\ta\tdone\tyou?\tGood\tyou.\tWhe're\tthink!\tStory\ttake\tyou.\t\t\t\t\t\t\t\t\t\t\t\n",
            "Can't\tfor\tthis\tI\tahadon't\tI\thave\tnothine.\tJust\tfurvan\thear?\t[QUOTE]NACS/TE-to.\tE-\tGreeting,\tpuret\ta\tpersonst\tHas\ttell\thearry,\tand\tand\tleady\tdoing.\t\t\n",
            "Body\ttoih-to\tmone\tvoirtature.\t\t\t\t\t\t\t\t\t\t\t\t\t\t\n",
            "I'm\theror\twould\tyou\thope\tin\ttrust\tbattler\tCyrusill!\tHerfer\ta.\t\n",
            "Plase\tobait\t\t\t\t\t\t\t\t\t\t\t\t\t\t\t\t\t\t\t\t\t\t\n",
            "What's\tneed\tthe\told\tbeliefer?\tMogir\tLest\tto\tjust.\t\n",
            "The\tMare\tthe\topen\tawf\n"
          ]
        }
      ]
    }
  ]
}